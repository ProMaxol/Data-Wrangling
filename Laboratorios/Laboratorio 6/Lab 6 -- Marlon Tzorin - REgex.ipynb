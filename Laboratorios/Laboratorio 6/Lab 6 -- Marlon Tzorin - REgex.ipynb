{
 "cells": [
  {
   "cell_type": "code",
   "execution_count": 62,
   "metadata": {},
   "outputs": [],
   "source": [
    "import numpy as np\n",
    "import pandas as pd\n",
    "import re"
   ]
  },
  {
   "cell_type": "code",
   "execution_count": 32,
   "metadata": {},
   "outputs": [],
   "source": [
    "# 1 , detectar una placa particular de Guatemala.\n",
    "#(una placa particular de guatemala consiste en una P mayuscula seguida de 3 digitos y luego 3 letras )"
   ]
  },
  {
   "cell_type": "code",
   "execution_count": 33,
   "metadata": {},
   "outputs": [
    {
     "name": "stdout",
     "output_type": "stream",
     "text": [
      "['P456DSD', 'ADASD1561', 'Mfsaf165', 'P789ABC', 'p546FGJ', 'PABC546', 'P349IFS', 'A123FKL', 'P346OWQ']\n"
     ]
    }
   ],
   "source": [
    "Placas = [\"P456DSD\", \"ADASD1561\", \"Mfsaf165\", \"P789ABC\", \"p546FGJ\", \"PABC546\",\n",
    "         \"P349IFS\", \"A123FKL\", \"P346OWQ\"]\n",
    "\n",
    "print(Placas)"
   ]
  },
  {
   "cell_type": "code",
   "execution_count": 70,
   "metadata": {},
   "outputs": [
    {
     "name": "stdout",
     "output_type": "stream",
     "text": [
      "['P456DSD', 'P789ABC', 'P349IFS', 'P346OWQ']\n"
     ]
    }
   ],
   "source": [
    "r = re.compile(\"[P]+[\\d{3}]+[A-Z{3}]\")\n",
    "PlacasGuate= list(filter(r.match, Placas))\n",
    "print(PlacasGuate)\n",
    "\n"
   ]
  },
  {
   "cell_type": "code",
   "execution_count": 35,
   "metadata": {},
   "outputs": [],
   "source": [
    "# 2 Genere una expresión regular que valide si un archivo es de tipo .pdf o jpg"
   ]
  },
  {
   "cell_type": "code",
   "execution_count": 36,
   "metadata": {},
   "outputs": [
    {
     "name": "stdout",
     "output_type": "stream",
     "text": [
      "['Data.xlsx', 'Vacaciones.jpg', 'Wrangling.docx', 'Jose.aux', 'Tepi.cat', 'Exoneracion.pfd', 'Paisaje.png', 'Cancun.jpg', 'Reporte.pdf']\n"
     ]
    }
   ],
   "source": [
    "Archivos = [\"Data.xlsx\", \"Vacaciones.jpg\", \"Wrangling.docx\", \"Jose.aux\",\n",
    "           \"Tepi.cat\",\"Exoneracion.pfd\",\"Paisaje.png\", \"Cancun.jpg\", \n",
    "           \"Reporte.pdf\"]\n",
    "print(Archivos)"
   ]
  },
  {
   "cell_type": "code",
   "execution_count": 37,
   "metadata": {},
   "outputs": [
    {
     "name": "stdout",
     "output_type": "stream",
     "text": [
      "['Vacaciones.jpg', 'Cancun.jpg', 'Reporte.pdf']\n"
     ]
    }
   ],
   "source": [
    "a = re.compile(\"[\\S]+\\.+(pdf|jpg)\")\n",
    "ArchivosImportantes = list(filter(a.match, Archivos))\n",
    "print(ArchivosImportantes)"
   ]
  },
  {
   "cell_type": "code",
   "execution_count": 38,
   "metadata": {},
   "outputs": [],
   "source": [
    "#3 Genere una expresión regular para validar contraseñas de correo. \n",
    "#Una contraseña de correo debe contener por lo menos 8 caracteres, \n",
    "#una letra mayúscula y un carácter especial."
   ]
  },
  {
   "cell_type": "code",
   "execution_count": 39,
   "metadata": {},
   "outputs": [
    {
     "name": "stdout",
     "output_type": "stream",
     "text": [
      "['Jose!abc', 'tEpi@rompecorazones', 'HolaMundo!', 'dasdasf!', '12345678', 'Real#Madrid', 'bisca$barca']\n"
     ]
    }
   ],
   "source": [
    "Contraseñas = [\"Jose!abc\",\"tEpi@rompecorazones\",\n",
    "               \"HolaMundo!\", \"dasdasf!\" , \"12345678\",\n",
    "              \"Real#Madrid\", \"bisca$barca\"]\n",
    "print(Contraseñas)"
   ]
  },
  {
   "cell_type": "code",
   "execution_count": 40,
   "metadata": {},
   "outputs": [
    {
     "name": "stdout",
     "output_type": "stream",
     "text": [
      "['Jose!abc', 'tEpi@rompecorazones', 'HolaMundo!', 'Real#Madrid']\n"
     ]
    }
   ],
   "source": [
    "b = re.compile(\"(?=.*[A-Z])(?=.*[@$!#])[a-zA-Z\\d@$!#]{8,}\")\n",
    "ContraseñasValidas = list(filter(b.match, Contraseñas))\n",
    "print(ContraseñasValidas)"
   ]
  },
  {
   "cell_type": "code",
   "execution_count": 41,
   "metadata": {},
   "outputs": [],
   "source": [
    "#4 Cree una expresión regular para validar un numero de carnet de \n",
    "#la Universidad Galileo, por ejemplo 19002324 \n",
    "#donde los primeros dos dígitos representan el año en el que el alumno \n",
    "#se inscribió los cuales pueden variar desde el 01 (año 2001) \n",
    "#hasta el 30 (año 2030). Los siguientes dos dígitos son cero (00) \n",
    "#los cuales van por default y los últimos cuatro dígitos son un número \n",
    "#que va desde el 1110 hasta el 8970. Para dar su respuesta utilice \n",
    "#la notación de expresiones regulares."
   ]
  },
  {
   "cell_type": "code",
   "execution_count": 42,
   "metadata": {},
   "outputs": [
    {
     "name": "stdout",
     "output_type": "stream",
     "text": [
      "['4567812', '89004687', '22005689', '05058965', '16003297', '01005689']\n"
     ]
    }
   ],
   "source": [
    "Galileo = [\"4567812\",\"89004687\",\"22005689\",\"05058965\",\"16003297\",\"01005689\"]\n",
    "print(Galileo)"
   ]
  },
  {
   "cell_type": "code",
   "execution_count": 43,
   "metadata": {},
   "outputs": [
    {
     "name": "stdout",
     "output_type": "stream",
     "text": [
      "['22005689', '16003297', '01005689']\n"
     ]
    }
   ],
   "source": [
    "c= re.compile(\"\\A[0-3]+[0-9]+00+(11[0-9][0-9]|1[2-9][0-9]{2}|8[0-8][0-9]{2}|[2-7][0-9]{3}|8970|89[0-6][0-9])\")\n",
    "carnets = list(filter(c.match,Galileo))\n",
    "print(carnets)"
   ]
  },
  {
   "cell_type": "code",
   "execution_count": 44,
   "metadata": {},
   "outputs": [],
   "source": [
    "#5 Cree una expresión regular que encuentre todas las palabras de la primera línea, pero ninguna de la segunda.\n",
    "#a. pit, spot, spate, slap two, respite\n",
    "#b. pt,Pot,peat,part"
   ]
  },
  {
   "cell_type": "code",
   "execution_count": 45,
   "metadata": {},
   "outputs": [
    {
     "name": "stdout",
     "output_type": "stream",
     "text": [
      "['pit', 'spot', 'spate', 'slap two', 'respite', 'pt', 'Pot', 'peat', 'part']\n"
     ]
    }
   ],
   "source": [
    "Palabras =[\"pit\",\"spot\",\"spate\",\"slap two\",\"respite\",\"pt\",\"Pot\",\"peat\",\"part\"]\n",
    "print(Palabras)"
   ]
  },
  {
   "cell_type": "code",
   "execution_count": 87,
   "metadata": {},
   "outputs": [
    {
     "name": "stdout",
     "output_type": "stream",
     "text": [
      "['pit']\n"
     ]
    }
   ],
   "source": [
    "d = re.compile(\"p.t\")\n",
    "palabrasbuenas = list(filter(d.match, Palabras))\n",
    "print(palabrasbuenas)"
   ]
  },
  {
   "cell_type": "code",
   "execution_count": 47,
   "metadata": {},
   "outputs": [],
   "source": [
    "#6 Cree una expresión regular para obtener los números telefónicos de Guatemala.\n",
    "#Estos pueden contener al inicio +502 o 502, \n",
    "#pueden estar separados por un espacio en blanco o un guión o juntos. \n",
    "#Notar que los números telefónicos pueden empezar únicamente con 4,5,6 o 2."
   ]
  },
  {
   "cell_type": "code",
   "execution_count": 50,
   "metadata": {},
   "outputs": [],
   "source": [
    "#7 Genere una expresión regular que sea capaz de obtener correos de la UFM"
   ]
  },
  {
   "cell_type": "code",
   "execution_count": 85,
   "metadata": {
    "scrolled": true
   },
   "outputs": [
    {
     "name": "stdout",
     "output_type": "stream",
     "text": [
      "('marlontzorin@ufm.edu', 'jsainz@ufm.edu', 'ksado@gmail.com', 'sdasad@uvg.edu', 'dsasdas@umf.edu', 'sdasdasd@ufm.org')\n"
     ]
    }
   ],
   "source": [
    "correos = (\"marlontzorin@ufm.edu\", \"jsainz@ufm.edu\",\n",
    "           \"ksado@gmail.com\",\"sdasad@uvg.edu\",\"dsasdas@umf.edu\",\"sdasdasd@ufm.org\")\n",
    "print(correos)"
   ]
  },
  {
   "cell_type": "code",
   "execution_count": 86,
   "metadata": {
    "scrolled": false
   },
   "outputs": [
    {
     "name": "stdout",
     "output_type": "stream",
     "text": [
      "['marlontzorin@ufm.edu', 'jsainz@ufm.edu', 'dsasdas@umf.edu']\n"
     ]
    }
   ],
   "source": [
    "f = re.compile(\"[a-z]+[@]+[ufm]+\\.+[edu]\")\n",
    "buenoscorreos = list(filter(f.match,correos))\n",
    "print(buenoscorreos)"
   ]
  },
  {
   "cell_type": "code",
   "execution_count": null,
   "metadata": {},
   "outputs": [],
   "source": []
  }
 ],
 "metadata": {
  "kernelspec": {
   "display_name": "Python 3",
   "language": "python",
   "name": "python3"
  },
  "language_info": {
   "codemirror_mode": {
    "name": "ipython",
    "version": 3
   },
   "file_extension": ".py",
   "mimetype": "text/x-python",
   "name": "python",
   "nbconvert_exporter": "python",
   "pygments_lexer": "ipython3",
   "version": "3.7.7"
  }
 },
 "nbformat": 4,
 "nbformat_minor": 4
}
